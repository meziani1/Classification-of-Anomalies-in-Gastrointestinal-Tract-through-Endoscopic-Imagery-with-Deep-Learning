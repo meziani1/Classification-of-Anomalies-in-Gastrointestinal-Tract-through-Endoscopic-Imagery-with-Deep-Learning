{
 "cells": [
  {
   "cell_type": "markdown",
   "metadata": {},
   "source": [
    "## Improting the useful libraries"
   ]
  },
  {
   "cell_type": "code",
   "execution_count": 5,
   "metadata": {
    "scrolled": true
   },
   "outputs": [],
   "source": [
    "import os\n",
    "import numpy as np \n",
    "import matplotlib.pyplot as plt\n",
    "import cv2\n",
    "import tensorflow as tf\n",
    "from tensorflow.keras import applications\n",
    "from tensorflow.keras import optimizers"
   ]
  },
  {
   "cell_type": "markdown",
   "metadata": {},
   "source": [
    "## Run the following funtions below, they will be used"
   ]
  },
  {
   "cell_type": "code",
   "execution_count": 23,
   "metadata": {},
   "outputs": [],
   "source": [
    "def generate_training_data(categories, crop_size):\n",
    "    for category in categories:\n",
    "        path = os.path.join(\"C:\\\\Users\\\\3C HOUSE\\Desktop\\Deeplearning\\kvasir-dataset-v2\" , category)\n",
    "        # this is the path to the dataset in my pc, if you are a windows user you can ediit this path this is a basic format \n",
    "        # for a windows pc, if you are a mac or linux user you have to follow this format \"/home/username/main_dir/sub_dir\"\n",
    "        class_number = categories.index(category)\n",
    "        for img in os.listdir(path):\n",
    "            try:\n",
    "                img_array = cv2.imread( os.path.join ( path, img))\n",
    "                resized_array = cv2.resize(img_array, (crop_size , crop_size) )\n",
    "                training_data.append([resized_array,class_number])\n",
    "            except Exception as e:    \n",
    "                print(e)\n"
   ]
  },
  {
   "cell_type": "code",
   "execution_count": 7,
   "metadata": {},
   "outputs": [],
   "source": [
    "def reshape_images(image_size):\n",
    "    x,y = [], []\n",
    "    for features,label in training_data:\n",
    "        x.append(features)\n",
    "        y.append(label)\n",
    "    x = np.array(x).reshape(8000, image_size, image_size, 3)\n",
    "    return x,y"
   ]
  },
  {
   "cell_type": "code",
   "execution_count": 8,
   "metadata": {},
   "outputs": [],
   "source": [
    "categories = ['dyed-lifted-polyps','dyed-resection-margins','esophagitis',\n",
    "             'normal-cecum','normal-pylorus','normal-z-line','polyps','ulcerative-colitis']"
   ]
  },
  {
   "cell_type": "markdown",
   "metadata": {},
   "source": [
    "## Resize the images using opencv"
   ]
  },
  {
   "cell_type": "code",
   "execution_count": 9,
   "metadata": {},
   "outputs": [],
   "source": [
    "training_data = []\n",
    "generate_training_data(categories, 96)"
   ]
  },
  {
   "cell_type": "markdown",
   "metadata": {},
   "source": [
    "## Convert the image to numpy arrays and resize them"
   ]
  },
  {
   "cell_type": "code",
   "execution_count": 10,
   "metadata": {},
   "outputs": [],
   "source": [
    "x , y = reshape_images(96)"
   ]
  },
  {
   "cell_type": "markdown",
   "metadata": {},
   "source": [
    "## Split data set (80% for training and 20% for testing)"
   ]
  },
  {
   "cell_type": "code",
   "execution_count": 11,
   "metadata": {},
   "outputs": [],
   "source": [
    "from sklearn.model_selection import train_test_split\n",
    "x_train,x_test,y_train,y_test = train_test_split(x,y,test_size=0.2,random_state=42)"
   ]
  },
  {
   "cell_type": "markdown",
   "metadata": {},
   "source": [
    "## Preprocess dataset by scaling all pixel intensities to the range [0, 1]"
   ]
  },
  {
   "cell_type": "code",
   "execution_count": 12,
   "metadata": {},
   "outputs": [],
   "source": [
    "x_train =x_train.astype('float32')\n",
    "x_test =x_test.astype('float32')\n",
    "x_train /= 255 #add a comment here\n",
    "x_test /= 255"
   ]
  },
  {
   "cell_type": "markdown",
   "metadata": {},
   "source": [
    "## Perform one hot encoding to categorize"
   ]
  },
  {
   "cell_type": "code",
   "execution_count": 13,
   "metadata": {},
   "outputs": [],
   "source": [
    "y_train = tf.keras.utils.to_categorical(y_train, 8) # perform one hot encoding\n",
    "y_test = tf.keras.utils.to_categorical(y_test, 8)"
   ]
  },
  {
   "cell_type": "markdown",
   "metadata": {},
   "source": [
    "## Initializing VGG19 model for transfer learning"
   ]
  },
  {
   "cell_type": "code",
   "execution_count": 14,
   "metadata": {},
   "outputs": [],
   "source": [
    "model_vgg19 = applications.VGG19(weights = \"imagenet\", include_top=False, input_shape = (96, 96, 3))"
   ]
  },
  {
   "cell_type": "markdown",
   "metadata": {},
   "source": [
    "## This is vgg19  model looks like , and do not need to remove any layers"
   ]
  },
  {
   "cell_type": "code",
   "execution_count": 15,
   "metadata": {
    "scrolled": true
   },
   "outputs": [
    {
     "name": "stdout",
     "output_type": "stream",
     "text": [
      "Model: \"vgg19\"\n",
      "_________________________________________________________________\n",
      "Layer (type)                 Output Shape              Param #   \n",
      "=================================================================\n",
      "input_1 (InputLayer)         [(None, 96, 96, 3)]       0         \n",
      "_________________________________________________________________\n",
      "block1_conv1 (Conv2D)        (None, 96, 96, 64)        1792      \n",
      "_________________________________________________________________\n",
      "block1_conv2 (Conv2D)        (None, 96, 96, 64)        36928     \n",
      "_________________________________________________________________\n",
      "block1_pool (MaxPooling2D)   (None, 48, 48, 64)        0         \n",
      "_________________________________________________________________\n",
      "block2_conv1 (Conv2D)        (None, 48, 48, 128)       73856     \n",
      "_________________________________________________________________\n",
      "block2_conv2 (Conv2D)        (None, 48, 48, 128)       147584    \n",
      "_________________________________________________________________\n",
      "block2_pool (MaxPooling2D)   (None, 24, 24, 128)       0         \n",
      "_________________________________________________________________\n",
      "block3_conv1 (Conv2D)        (None, 24, 24, 256)       295168    \n",
      "_________________________________________________________________\n",
      "block3_conv2 (Conv2D)        (None, 24, 24, 256)       590080    \n",
      "_________________________________________________________________\n",
      "block3_conv3 (Conv2D)        (None, 24, 24, 256)       590080    \n",
      "_________________________________________________________________\n",
      "block3_conv4 (Conv2D)        (None, 24, 24, 256)       590080    \n",
      "_________________________________________________________________\n",
      "block3_pool (MaxPooling2D)   (None, 12, 12, 256)       0         \n",
      "_________________________________________________________________\n",
      "block4_conv1 (Conv2D)        (None, 12, 12, 512)       1180160   \n",
      "_________________________________________________________________\n",
      "block4_conv2 (Conv2D)        (None, 12, 12, 512)       2359808   \n",
      "_________________________________________________________________\n",
      "block4_conv3 (Conv2D)        (None, 12, 12, 512)       2359808   \n",
      "_________________________________________________________________\n",
      "block4_conv4 (Conv2D)        (None, 12, 12, 512)       2359808   \n",
      "_________________________________________________________________\n",
      "block4_pool (MaxPooling2D)   (None, 6, 6, 512)         0         \n",
      "_________________________________________________________________\n",
      "block5_conv1 (Conv2D)        (None, 6, 6, 512)         2359808   \n",
      "_________________________________________________________________\n",
      "block5_conv2 (Conv2D)        (None, 6, 6, 512)         2359808   \n",
      "_________________________________________________________________\n",
      "block5_conv3 (Conv2D)        (None, 6, 6, 512)         2359808   \n",
      "_________________________________________________________________\n",
      "block5_conv4 (Conv2D)        (None, 6, 6, 512)         2359808   \n",
      "_________________________________________________________________\n",
      "block5_pool (MaxPooling2D)   (None, 3, 3, 512)         0         \n",
      "=================================================================\n",
      "Total params: 20,024,384\n",
      "Trainable params: 20,024,384\n",
      "Non-trainable params: 0\n",
      "_________________________________________________________________\n"
     ]
    }
   ],
   "source": [
    "model_vgg19.summary()"
   ]
  },
  {
   "cell_type": "markdown",
   "metadata": {},
   "source": [
    "## All the variables in first 20 layers (this VGG19 CNNl has 22 layers) will not train"
   ]
  },
  {
   "cell_type": "code",
   "execution_count": null,
   "metadata": {},
   "outputs": [],
   "source": [
    "for layer in model_vgg19.layers[:20]:\n",
    "    layer.trainable = False"
   ]
  },
  {
   "cell_type": "markdown",
   "metadata": {},
   "source": [
    "## Adding global average pooling (GAP) layer to the vgg19"
   ]
  },
  {
   "cell_type": "code",
   "execution_count": 17,
   "metadata": {},
   "outputs": [],
   "source": [
    "x_vgg19 = model_vgg19.output\n",
    "x_vgg19 = tf.keras.layers.GlobalAveragePooling2D()(x_vgg19)\n"
   ]
  },
  {
   "cell_type": "markdown",
   "metadata": {},
   "source": [
    "## Adding dropout (for regularization), SoftMax, Adam as optimizer and categorical_crossentropy as loss function"
   ]
  },
  {
   "cell_type": "code",
   "execution_count": 18,
   "metadata": {},
   "outputs": [],
   "source": [
    "x_vgg19 = tf.keras.layers.Dense(1024, activation=\"relu\")(x_vgg19)\n",
    "x_vgg19 = tf.keras.layers.Dropout(0.5)(x_vgg19)\n",
    "x_vgg19 = tf.keras.layers.Dense(512, activation=\"relu\")(x_vgg19)\n",
    "x_vgg19 = tf.keras.layers.Dropout(0.5)(x_vgg19)\n",
    "x_vgg19 = tf.keras.layers.Dense(256, activation=\"relu\")(x_vgg19)\n",
    "x_vgg19 = tf.keras.layers.Dropout(0.5)(x_vgg19)\n",
    "x_vgg19 = tf.keras.layers.Dense(128, activation=\"relu\")(x_vgg19)\n",
    "predictions = tf.keras.layers.Dense(8, activation=\"softmax\")(x_vgg19)   \n",
    "model_final = tf.keras.models.Model(model_vgg19.input,predictions)\n",
    "model_final.compile(loss=\"categorical_crossentropy\", optimizer='Adam', metrics=[\"accuracy\"])"
   ]
  },
  {
   "cell_type": "code",
   "execution_count": 19,
   "metadata": {
    "scrolled": true
   },
   "outputs": [
    {
     "name": "stdout",
     "output_type": "stream",
     "text": [
      "Epoch 1/8\n",
      "100/100 [==============================] - 518s 5s/step - loss: 1.7728 - accuracy: 0.2764 - val_loss: 0.9416 - val_accuracy: 0.5575\n",
      "Epoch 2/8\n",
      "100/100 [==============================] - 547s 5s/step - loss: 0.8945 - accuracy: 0.5774 - val_loss: 0.6961 - val_accuracy: 0.6856\n",
      "Epoch 3/8\n",
      "100/100 [==============================] - 569s 6s/step - loss: 0.6891 - accuracy: 0.6773 - val_loss: 0.6465 - val_accuracy: 0.7113\n",
      "Epoch 4/8\n",
      "100/100 [==============================] - 530s 5s/step - loss: 0.5682 - accuracy: 0.7368 - val_loss: 0.6482 - val_accuracy: 0.7219\n",
      "Epoch 5/8\n",
      "100/100 [==============================] - 539s 5s/step - loss: 0.5161 - accuracy: 0.7802 - val_loss: 0.5402 - val_accuracy: 0.7894\n",
      "Epoch 6/8\n",
      "100/100 [==============================] - 529s 5s/step - loss: 0.4160 - accuracy: 0.8225 - val_loss: 0.5601 - val_accuracy: 0.7800\n",
      "Epoch 7/8\n",
      "100/100 [==============================] - 535s 5s/step - loss: 0.3868 - accuracy: 0.8427 - val_loss: 0.5608 - val_accuracy: 0.7969\n",
      "Epoch 8/8\n",
      "100/100 [==============================] - 539s 5s/step - loss: 0.3617 - accuracy: 0.8575 - val_loss: 0.5941 - val_accuracy: 0.7681\n"
     ]
    }
   ],
   "source": [
    "history=model_final.fit(x_train, y_train,\n",
    "          batch_size=64,\n",
    "          epochs=8,\n",
    "          verbose=1,\n",
    "          validation_data=(x_test, y_test))"
   ]
  },
  {
   "cell_type": "markdown",
   "metadata": {},
   "source": [
    "## Testing on test dataset"
   ]
  },
  {
   "cell_type": "code",
   "execution_count": 20,
   "metadata": {},
   "outputs": [],
   "source": [
    "testscore = model_final.evaluate(x_test, y_test, verbose=0)"
   ]
  },
  {
   "cell_type": "code",
   "execution_count": 21,
   "metadata": {},
   "outputs": [
    {
     "name": "stdout",
     "output_type": "stream",
     "text": [
      "Test loss: 0.5941340923309326\n",
      "Test accuracy: 0.7681249976158142\n"
     ]
    }
   ],
   "source": [
    "print('Test loss:', testscore[0])\n",
    "print('Test accuracy:', testscore[1])"
   ]
  },
  {
   "cell_type": "code",
   "execution_count": 22,
   "metadata": {},
   "outputs": [
    {
     "data": {
      "image/png": "[encoded data removed]",
      "text/plain": [
       "<Figure size 432x288 with 1 Axes>"
      ]
     },
     "metadata": {
      "needs_background": "light"
     },
     "output_type": "display_data"
    },
    {
     "data": {
      "image/png": "[encoded data removed]",
      "text/plain": [
       "<Figure size 432x288 with 1 Axes>"
      ]
     },
     "metadata": {
      "needs_background": "light"
     },
     "output_type": "display_data"
    }
   ],
   "source": [
    "plt.plot(history.history['accuracy'])\n",
    "plt.plot(history.history['val_accuracy'])\n",
    "plt.title('model accuracy')\n",
    "plt.ylabel('accuracy')\n",
    "plt.xlabel('epoch')\n",
    "plt.legend(['train', 'test'], loc='upper left')\n",
    "plt.show()\n",
    "\n",
    "plt.plot(history.history['loss'])\n",
    "plt.plot(history.history['val_loss'])\n",
    "plt.title('model loss')\n",
    "plt.ylabel('loss')\n",
    "plt.xlabel('epoch')\n",
    "plt.legend(['train', 'test'], loc='upper right')\n",
    "plt.show()"
   ]
  }
 ],
 "metadata": {
  "kernelspec": {
   "display_name": "Python 3",
   "language": "python",
   "name": "python3"
  },
  "language_info": {
   "codemirror_mode": {
    "name": "ipython",
    "version": 3
   },
   "file_extension": ".py",
   "mimetype": "text/x-python",
   "name": "python",
   "nbconvert_exporter": "python",
   "pygments_lexer": "ipython3",
   "version": "3.7.6"
  }
 },
 "nbformat": 4,
 "nbformat_minor": 4
}
